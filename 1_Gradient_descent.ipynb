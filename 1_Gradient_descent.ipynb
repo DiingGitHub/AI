{
  "nbformat": 4,
  "nbformat_minor": 0,
  "metadata": {
    "colab": {
      "provenance": []
    },
    "kernelspec": {
      "name": "python3",
      "display_name": "Python 3"
    }
  },
  "cells": [
    {
      "cell_type": "markdown",
      "metadata": {
        "id": "ijqsqapiFLTz"
      },
      "source": [
        "# 梯度縮減(Gradient Descent)\n",
        "以y = x^2的範例，說明深度學習網路如何透過可微分之函數逼近目標最小值"
      ]
    },
    {
      "cell_type": "code",
      "metadata": {
        "id": "sXYJKLUPEY5h",
        "colab": {
          "base_uri": "https://localhost:8080/"
        },
        "outputId": "487f24a0-c93d-40d7-993a-675f83436b9a"
      },
      "source": [
        "import numpy as np\n",
        "import matplotlib.pyplot as plt\n",
        "\n",
        "# 目標函數:y=x^2\n",
        "def func(x): return np.square(x)\n",
        "\n",
        "# 目標函數一階導數:dy/dx=2*x\n",
        "def dfunc(x): return 2 * x\n",
        "\n",
        "def GD(x_start, df, epochs, lr):\n",
        "    \"\"\"  梯度下降法。給定起始點與目標函數的一階導函數，求在epochs次反覆運算中x的更新值\n",
        "        :param x_start: x的起始點\n",
        "        :param df: 目標函數的一階導函數\n",
        "        :param epochs: 反覆運算週期\n",
        "        :param lr: 學習率\n",
        "        :return: x在每次反覆運算後的位置（包括起始點），長度為epochs+1\n",
        "     \"\"\"\n",
        "    xs = np.zeros(epochs+1)\n",
        "    x = x_start\n",
        "    xs[0] = x\n",
        "    for i in range(epochs):\n",
        "        dx = df(x)\n",
        "        # v表示x要改變的幅度\n",
        "        v = - dx * lr\n",
        "        x += v\n",
        "        xs[i+1] = x\n",
        "    return xs\n",
        "\n",
        "# Main\n",
        "# 起始權重\n",
        "x_start = 5\n",
        "# 執行週期數\n",
        "epochs = 15\n",
        "# 學習率\n",
        "lr = 0.3\n",
        "# 梯度下降法\n",
        "x = GD(x_start, dfunc, epochs, lr=lr)\n",
        "print (x)\n",
        "# 輸出：[-5.     -2.     -0.8    -0.32   -0.128  -0.0512]\n",
        "\n",
        "color = 'r'\n",
        "#plt.plot(line_x, line_y, c='b')\n",
        "from numpy import arange\n",
        "t = arange(-6.0, 6.0, 0.01)\n",
        "plt.plot(t, func(t), c='b')\n",
        "plt.plot(x, func(x), c=color, label='lr={}'.format(lr))\n",
        "plt.scatter(x, func(x), c=color, )\n",
        "plt.legend()\n",
        "\n",
        "plt.show()"
      ],
      "execution_count": null,
      "outputs": [
        {
          "output_type": "stream",
          "name": "stdout",
          "text": [
            "[5.00000000e+00 2.00000000e+00 8.00000000e-01 3.20000000e-01\n",
            " 1.28000000e-01 5.12000000e-02 2.04800000e-02 8.19200000e-03\n",
            " 3.27680000e-03 1.31072000e-03 5.24288000e-04 2.09715200e-04\n",
            " 8.38860800e-05 3.35544320e-05 1.34217728e-05 5.36870912e-06]\n"
          ]
        }
      ]
    }
  ]
}